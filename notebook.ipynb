{
 "cells": [
  {
   "cell_type": "markdown",
   "metadata": {},
   "source": [
    "<img src=\"http://oci02.img.iteso.mx/identidad_de_instancia_2018/ITESO/Logos%20ITESO/Logo-ITESO-Principal.jpg\">"
   ]
  },
  {
   "cell_type": "markdown",
   "metadata": {},
   "source": [
    "<center><font color=#555555><font size=6> Ingeniería Financiera </font> <br> <br>\n",
    "\n",
    "<center><font color=#555555><font size=5> ITE1731 - Microestructura y Sistemas de Trading </font> <br> <br> <br>\n",
    "\n",
    "<center><font color=#555555><font size=5> I.F. Andres Piedras Ayala </font> <br> <br>\n",
    "   \n",
    "<center> <font color= #555555> <font size = 4> Febrero 2021 </a> | <font color= #555555> <font size = 4> Repositorio: <a href='https://github.com/PiedrasAyala95/MyST_LAB1_APA'>Link</a></font>"
   ]
  },
  {
   "cell_type": "markdown",
   "metadata": {},
   "source": [
    "<br>"
   ]
  },
  {
   "cell_type": "markdown",
   "metadata": {},
   "source": [
    "---"
   ]
  },
  {
   "cell_type": "markdown",
   "metadata": {},
   "source": [
    "<br>"
   ]
  },
  {
   "cell_type": "markdown",
   "metadata": {},
   "source": [
    "<br>"
   ]
  },
  {
   "cell_type": "markdown",
   "metadata": {},
   "source": [
    "<center> <font color= #555555> <font size = 7> Laboratorio 1 </font> <br> <br> <font color= #555555> <font size = 5> Inversión del Capital </font>"
   ]
  },
  {
   "cell_type": "markdown",
   "metadata": {},
   "source": [
    "<br>"
   ]
  },
  {
   "cell_type": "markdown",
   "metadata": {},
   "source": [
    "# <font color= #6B6B6B> <font size = 6> 0. Librerías y Dependencias </font>"
   ]
  },
  {
   "cell_type": "markdown",
   "metadata": {},
   "source": [
    "<hr style=\"border:0.02in solid gray\"> </hr>"
   ]
  },
  {
   "cell_type": "markdown",
   "metadata": {},
   "source": [
    "# <font color= #6B6B6B> <font size = 5> 0.1 Librerías </font> <font color= #555555>"
   ]
  },
  {
   "cell_type": "markdown",
   "metadata": {},
   "source": [
    "Para correr este notebook es necesario tener instaladas y/o en el archivo _requirements.txt_ las siguientes librerías :"
   ]
  },
  {
   "cell_type": "markdown",
   "metadata": {},
   "source": [
    "- pandas>=1.1.1 \n",
    "- numpy>=1.19.1\n",
    "- jupyter>=1.0.0\n",
    "- yfinance>=0.1.55\n",
    "- matplotlib.pyplot>=3.3.3"
   ]
  },
  {
   "cell_type": "markdown",
   "metadata": {},
   "source": [
    "- Pandas es una biblioteca de software escrita para manipulación y análisis de datos para el lenguaje de programación Python. En particular, ofrece estructuras de datos y operaciones para manipular tablas numéricas y series temporales.\n",
    "- NumPy es una extensión de Python, que le agrega mayor soporte para vectores y matrices, constituyendo una biblioteca de funciones matemáticas de alto nivel para operar con esos vectores o matrices\n",
    "- Jupyter es una organizacion creada para desarrollar software de código abierto, estándares abiertos y servicios para computación interactiva en docenas de lenguajes de programación\n",
    "- Yfinance tiene como objetivo resolver este problema ofreciendo una forma fiable, con subprocesos y pitónica de descargar datos históricos del mercado de Yahoo! Finanzas.\n",
    "- Matplotlib.pyplot es una colección de funciones que hacen que matplotlib funcione como MATLAB. Cada pyplotfunción realiza algún cambio en una figura: por ejemplo, crea una figura, crea un área de trazado en una figura, traza algunas líneas en un área de trazado, decora la trama con etiquetas, etc."
   ]
  },
  {
   "cell_type": "markdown",
   "metadata": {},
   "source": [
    "# <font color= #6B6B6B> <font size = 5> 0.2 Dependencias </font> <font color= #555555>"
   ]
  },
  {
   "cell_type": "markdown",
   "metadata": {},
   "source": [
    "Para correr este notebook es necesario contar con los siguientes archivos y dependencias externas:"
   ]
  },
  {
   "cell_type": "markdown",
   "metadata": {},
   "source": [
    "- files/precios.csv : Precios históricos\n",
    "- files/datos.txt : Otros datos históricos"
   ]
  },
  {
   "cell_type": "markdown",
   "metadata": {},
   "source": [
    "<br>"
   ]
  },
  {
   "cell_type": "markdown",
   "metadata": {},
   "source": [
    "# <font color= #6B6B6B> <font size = 6> 1. Introducción </font>"
   ]
  },
  {
   "cell_type": "markdown",
   "metadata": {},
   "source": [
    "<hr style=\"border:0.02in solid gray\"> </hr>"
   ]
  },
  {
   "cell_type": "markdown",
   "metadata": {},
   "source": [
    "Tenemos un Caso: Tienes 1 Millón de pesos, tienes dos opciones para invertirlos. Por un lado, puedes hacer una Inversión Pasiva del capital, comprando el 100% del capital de títulos de un ETF que replica al mercado de renta variable mexicano S&P/BMV IPC que es el NAFTRAC. Pero por otro lado, puedes hacer una Inversión Activa del capital, al crear un portafolio que tenga los mismos activos que el ETF y haciendo el rebalanceo por medio de un algoritmo en específico."
   ]
  },
  {
   "cell_type": "markdown",
   "metadata": {},
   "source": [
    "<br>"
   ]
  },
  {
   "cell_type": "markdown",
   "metadata": {},
   "source": [
    "# <font color= #6B6B6B> <font size = 6> 2. Objetivos </font>"
   ]
  },
  {
   "cell_type": "markdown",
   "metadata": {},
   "source": [
    "<hr style=\"border:0.02in solid gray\"> </hr>"
   ]
  },
  {
   "cell_type": "markdown",
   "metadata": {},
   "source": [
    "¿Qué estrategia de inversión propondrías si tu trabajo fuera administrar 1 Millón de pesos?"
   ]
  },
  {
   "cell_type": "markdown",
   "metadata": {},
   "source": [
    "<br>"
   ]
  },
  {
   "cell_type": "markdown",
   "metadata": {},
   "source": [
    "# <font color= #6B6B6B> <font size = 6> 3. Datos </font>"
   ]
  },
  {
   "cell_type": "markdown",
   "metadata": {},
   "source": [
    "<hr style=\"border:0.02in solid gray\"> </hr>"
   ]
  },
  {
   "cell_type": "markdown",
   "metadata": {},
   "source": [
    "##### ---------------- Debemos primero mandar a llamar todos las funciones para que corra bien el codigo ----------------"
   ]
  },
  {
   "cell_type": "code",
   "execution_count": 1,
   "metadata": {},
   "outputs": [],
   "source": [
    "from data import archivos, data_archivos\n",
    "from functions import fecha1,Activos,yahoo,cierre,fecha2,p_adj_close,precios,Activo_No\n",
    "from functions import passivo,peso,pasiva_2,dinero,operaciones,dataframe_pasiva,precios\n",
    "from visualizations import grafico1,grafico2,grafico3,grafico4"
   ]
  },
  {
   "cell_type": "code",
   "execution_count": 2,
   "metadata": {},
   "outputs": [],
   "source": [
    "archivos = archivos #Mandamos a llamar la lista de archivos\n",
    "data_archivos = data_archivos #Mandamos a llamar un diccionario donde contenemos todo  los archivos limpios"
   ]
  },
  {
   "cell_type": "code",
   "execution_count": 3,
   "metadata": {},
   "outputs": [
    {
     "data": {
      "text/plain": [
       "['NAFTRAC_310118',\n",
       " 'NAFTRAC_280218',\n",
       " 'NAFTRAC_280318',\n",
       " 'NAFTRAC_300418',\n",
       " 'NAFTRAC_310518']"
      ]
     },
     "execution_count": 3,
     "metadata": {},
     "output_type": "execute_result"
    }
   ],
   "source": [
    "archivos[:5] #Lista de archivos"
   ]
  },
  {
   "cell_type": "code",
   "execution_count": 4,
   "metadata": {},
   "outputs": [
    {
     "data": {
      "text/html": [
       "<div>\n",
       "<style scoped>\n",
       "    .dataframe tbody tr th:only-of-type {\n",
       "        vertical-align: middle;\n",
       "    }\n",
       "\n",
       "    .dataframe tbody tr th {\n",
       "        vertical-align: top;\n",
       "    }\n",
       "\n",
       "    .dataframe thead th {\n",
       "        text-align: right;\n",
       "    }\n",
       "</style>\n",
       "<table border=\"1\" class=\"dataframe\">\n",
       "  <thead>\n",
       "    <tr style=\"text-align: right;\">\n",
       "      <th></th>\n",
       "      <th>Ticker</th>\n",
       "      <th>Nombre</th>\n",
       "      <th>Clase de activo</th>\n",
       "      <th>Peso (%)</th>\n",
       "      <th>Precio</th>\n",
       "      <th>Acciones</th>\n",
       "      <th>Valor de mercado</th>\n",
       "      <th>Valor nominal</th>\n",
       "      <th>Sector</th>\n",
       "      <th>ISIN</th>\n",
       "      <th>Bolsa de valores</th>\n",
       "      <th>Ubicación</th>\n",
       "      <th>Moneda</th>\n",
       "      <th>Mercado de divisas</th>\n",
       "      <th>Tipo de Cambio</th>\n",
       "    </tr>\n",
       "  </thead>\n",
       "  <tbody>\n",
       "    <tr>\n",
       "      <th>0</th>\n",
       "      <td>AMXL</td>\n",
       "      <td>AMERICA MOVIL L</td>\n",
       "      <td>Equity</td>\n",
       "      <td>0.1331</td>\n",
       "      <td>17.44</td>\n",
       "      <td>309,663,816.00</td>\n",
       "      <td>5,400,536,951.04</td>\n",
       "      <td>5,400,536,951.04</td>\n",
       "      <td>Telecomunicaciones</td>\n",
       "      <td>MXP001691213</td>\n",
       "      <td>Bolsa Mexicana De Valores</td>\n",
       "      <td>México</td>\n",
       "      <td>MXN</td>\n",
       "      <td>MXN</td>\n",
       "      <td>1.00</td>\n",
       "    </tr>\n",
       "    <tr>\n",
       "      <th>1</th>\n",
       "      <td>FEMSAUBD</td>\n",
       "      <td>FOMENTO ECONOMICO MEXICANO</td>\n",
       "      <td>Equity</td>\n",
       "      <td>0.1269</td>\n",
       "      <td>181.52</td>\n",
       "      <td>28,367,196.00</td>\n",
       "      <td>5,149,213,417.92</td>\n",
       "      <td>5,149,213,417.92</td>\n",
       "      <td>Productos básicos de consumo</td>\n",
       "      <td>MXP320321310</td>\n",
       "      <td>Bolsa Mexicana De Valores</td>\n",
       "      <td>México</td>\n",
       "      <td>MXN</td>\n",
       "      <td>MXN</td>\n",
       "      <td>1.00</td>\n",
       "    </tr>\n",
       "    <tr>\n",
       "      <th>2</th>\n",
       "      <td>GFNORTEO</td>\n",
       "      <td>GPO FINANCE BANORTE</td>\n",
       "      <td>Equity</td>\n",
       "      <td>0.0951</td>\n",
       "      <td>119.58</td>\n",
       "      <td>32,280,468.00</td>\n",
       "      <td>3,860,098,363.44</td>\n",
       "      <td>3,860,098,363.44</td>\n",
       "      <td>Financieros</td>\n",
       "      <td>MXP370711014</td>\n",
       "      <td>Bolsa Mexicana De Valores</td>\n",
       "      <td>México</td>\n",
       "      <td>MXN</td>\n",
       "      <td>MXN</td>\n",
       "      <td>1.00</td>\n",
       "    </tr>\n",
       "    <tr>\n",
       "      <th>3</th>\n",
       "      <td>WALMEX</td>\n",
       "      <td>WALMART DE MEXICO V</td>\n",
       "      <td>Equity</td>\n",
       "      <td>0.0760</td>\n",
       "      <td>46.64</td>\n",
       "      <td>66,171,336.00</td>\n",
       "      <td>3,086,231,111.04</td>\n",
       "      <td>3,086,231,111.04</td>\n",
       "      <td>Productos básicos de consumo</td>\n",
       "      <td>MX01WA000038</td>\n",
       "      <td>Bolsa Mexicana De Valores</td>\n",
       "      <td>México</td>\n",
       "      <td>MXN</td>\n",
       "      <td>MXN</td>\n",
       "      <td>1.00</td>\n",
       "    </tr>\n",
       "    <tr>\n",
       "      <th>4</th>\n",
       "      <td>GMEXICOB</td>\n",
       "      <td>GRUPO MEXICO B</td>\n",
       "      <td>Equity</td>\n",
       "      <td>0.0754</td>\n",
       "      <td>65.98</td>\n",
       "      <td>46,355,364.00</td>\n",
       "      <td>3,058,526,916.72</td>\n",
       "      <td>3,058,526,916.72</td>\n",
       "      <td>Materiales</td>\n",
       "      <td>MXP370841019</td>\n",
       "      <td>Bolsa Mexicana De Valores</td>\n",
       "      <td>México</td>\n",
       "      <td>MXN</td>\n",
       "      <td>MXN</td>\n",
       "      <td>1.00</td>\n",
       "    </tr>\n",
       "  </tbody>\n",
       "</table>\n",
       "</div>"
      ],
      "text/plain": [
       "     Ticker                      Nombre Clase de activo  Peso (%)  Precio        Acciones  Valor de mercado     Valor nominal                        Sector          ISIN           Bolsa de valores Ubicación Moneda Mercado de divisas Tipo de Cambio\n",
       "0      AMXL             AMERICA MOVIL L          Equity    0.1331   17.44  309,663,816.00  5,400,536,951.04  5,400,536,951.04            Telecomunicaciones  MXP001691213  Bolsa Mexicana De Valores    México    MXN                MXN           1.00\n",
       "1  FEMSAUBD  FOMENTO ECONOMICO MEXICANO          Equity    0.1269  181.52   28,367,196.00  5,149,213,417.92  5,149,213,417.92  Productos básicos de consumo  MXP320321310  Bolsa Mexicana De Valores    México    MXN                MXN           1.00\n",
       "2  GFNORTEO         GPO FINANCE BANORTE          Equity    0.0951  119.58   32,280,468.00  3,860,098,363.44  3,860,098,363.44                   Financieros  MXP370711014  Bolsa Mexicana De Valores    México    MXN                MXN           1.00\n",
       "3    WALMEX         WALMART DE MEXICO V          Equity    0.0760   46.64   66,171,336.00  3,086,231,111.04  3,086,231,111.04  Productos básicos de consumo  MX01WA000038  Bolsa Mexicana De Valores    México    MXN                MXN           1.00\n",
       "4  GMEXICOB              GRUPO MEXICO B          Equity    0.0754   65.98   46,355,364.00  3,058,526,916.72  3,058,526,916.72                    Materiales  MXP370841019  Bolsa Mexicana De Valores    México    MXN                MXN           1.00"
      ]
     },
     "execution_count": 4,
     "metadata": {},
     "output_type": "execute_result"
    }
   ],
   "source": [
    "data_archivos['NAFTRAC_310118'].head() #Diccionario donde tenemos todos los archivos\n",
    "                                        #Seleccionamos uno en especifico para poder visualizarlo (NAFTRAC_310118)"
   ]
  },
  {
   "cell_type": "markdown",
   "metadata": {},
   "source": [
    "<br>"
   ]
  },
  {
   "cell_type": "markdown",
   "metadata": {},
   "source": [
    "# <font color= #6B6B6B> <font size = 6> 4. Procesos </font>"
   ]
  },
  {
   "cell_type": "markdown",
   "metadata": {},
   "source": [
    "<hr style=\"border:0.02in solid gray\"> </hr>"
   ]
  },
  {
   "cell_type": "markdown",
   "metadata": {},
   "source": [
    "##### -En esta parte se pondra en orden como se debe de llamar las funciones para que puedan correr correctamente, y de igual manera se explicara que se hace en cada linea de codigo"
   ]
  },
  {
   "cell_type": "code",
   "execution_count": 5,
   "metadata": {},
   "outputs": [
    {
     "name": "stdout",
     "output_type": "stream",
     "text": [
      "[*********************100%***********************]  39 of 39 completed\n"
     ]
    }
   ],
   "source": [
    "i_fechas = fecha1(archivos) #Mandamos a llamar una lista de fechas que la usaremos para otras funciones\n",
    "global_tickers = Activos(archivos,data_archivos) #Manda a llamar todos los tickers unicos que tenemos en todos los archvios\n",
    "Data_Yahoo = yahoo(global_tickers) #Manda a llamar una funcion donde descargamos los historicos de las acciones\n",
    "Close = cierre(Data_Yahoo,global_tickers) #Manda a llamar una funcion donde contenemos unicamente el cierre de todas las acciones\n",
    "Fechas_list = fecha2(Close,i_fechas) #Manda a llamar otra lista de fechas\n",
    "Precio_Adj_Close = p_adj_close(Close,Fechas_list) #Manda a llamar una funcion donde contenemos unicamente el adj_close de todas las acciones\n",
    "precios = precios(Precio_Adj_Close) #Manda a llamar una funcion donde contenemos unicamente el precio de todas las acciones\n",
    "k = 1000000 #capital inicial\n",
    "c = 0.00125 # comisiones por transaccion\n",
    "List_Activos = Activo_No() # Manda a allmar una funcion donde tenemos una lista de activos que no queremos o necesitamos \n",
    "pasiva_p = passivo(k) #Mnada a llamr un diccionario \n",
    "Datos_Peso = peso(data_archivos,archivos,List_Activos) #Manda a llamar una funcion donde obtenemos los pesos % de cada activo\n",
    "df_pasiva_Final = pasiva_2(Datos_Peso) #Manda a llamar una funcion donde nos ayudara a mantener los datos para futuras operacioenes\n",
    "Dinero = dinero(df_pasiva_Final,precios,Fechas_list,k,c) #Nos regresa un numero \n",
    "df_operaciones = operaciones(df_pasiva_Final) #Mandamos a llamar un dataframe donde tenemos las columnas requeridas para las operaciones\n",
    "df_pasiva = dataframe_pasiva(Fechas_list,precios,df_pasiva_Final,pasiva_p,Dinero,df_operaciones) #Mnadamos a llamar un dataframe donde contiene las operaciones de la pasiva"
   ]
  },
  {
   "cell_type": "markdown",
   "metadata": {},
   "source": [
    "# <font color= #6B6B6B> <font size = 6> 5. Conclusiones </font>"
   ]
  },
  {
   "cell_type": "markdown",
   "metadata": {},
   "source": [
    "<hr style=\"border:0.02in solid gray\"> </hr>"
   ]
  },
  {
   "cell_type": "markdown",
   "metadata": {},
   "source": [
    "##### -Inversión pasiva: Se trata de inversiones que replican un índice determinado. Los fondos indexados o cotizados nos permiten invertir nuestro dinero en base a una serie de valores, en lugar de tomar decisiones de forma continua, la inversión se limita a reportar los beneficios que obtiene el índice replicado.\n",
    "\n",
    "##### -Inversión activa: En este caso realizamos una gestión propia de nuestros recursos, invirtiendo en acciones de nuestra elección, sin tratar de replicar un índice concreto."
   ]
  },
  {
   "cell_type": "code",
   "execution_count": 6,
   "metadata": {},
   "outputs": [
    {
     "data": {
      "text/html": [
       "<div>\n",
       "<style scoped>\n",
       "    .dataframe tbody tr th:only-of-type {\n",
       "        vertical-align: middle;\n",
       "    }\n",
       "\n",
       "    .dataframe tbody tr th {\n",
       "        vertical-align: top;\n",
       "    }\n",
       "\n",
       "    .dataframe thead th {\n",
       "        text-align: right;\n",
       "    }\n",
       "</style>\n",
       "<table border=\"1\" class=\"dataframe\">\n",
       "  <thead>\n",
       "    <tr style=\"text-align: right;\">\n",
       "      <th></th>\n",
       "      <th>TIMESTAMP</th>\n",
       "      <th>CAPITAL</th>\n",
       "      <th>REND</th>\n",
       "      <th>REND_ACUM</th>\n",
       "    </tr>\n",
       "  </thead>\n",
       "  <tbody>\n",
       "    <tr>\n",
       "      <th>0</th>\n",
       "      <td>31-01-2018</td>\n",
       "      <td>1000000.000000</td>\n",
       "      <td>0.000000</td>\n",
       "      <td>0.000000</td>\n",
       "    </tr>\n",
       "    <tr>\n",
       "      <th>1</th>\n",
       "      <td>2018-01-31</td>\n",
       "      <td>998805.459829</td>\n",
       "      <td>-0.001195</td>\n",
       "      <td>-0.001195</td>\n",
       "    </tr>\n",
       "    <tr>\n",
       "      <th>2</th>\n",
       "      <td>2018-02-28</td>\n",
       "      <td>943330.766258</td>\n",
       "      <td>-0.055541</td>\n",
       "      <td>-0.056736</td>\n",
       "    </tr>\n",
       "    <tr>\n",
       "      <th>3</th>\n",
       "      <td>2018-03-28</td>\n",
       "      <td>918905.642553</td>\n",
       "      <td>-0.025892</td>\n",
       "      <td>-0.082628</td>\n",
       "    </tr>\n",
       "    <tr>\n",
       "      <th>4</th>\n",
       "      <td>2018-04-30</td>\n",
       "      <td>961771.929086</td>\n",
       "      <td>0.046649</td>\n",
       "      <td>-0.035979</td>\n",
       "    </tr>\n",
       "  </tbody>\n",
       "</table>\n",
       "</div>"
      ],
      "text/plain": [
       "    TIMESTAMP         CAPITAL      REND  REND_ACUM\n",
       "0  31-01-2018  1000000.000000  0.000000   0.000000\n",
       "1  2018-01-31   998805.459829 -0.001195  -0.001195\n",
       "2  2018-02-28   943330.766258 -0.055541  -0.056736\n",
       "3  2018-03-28   918905.642553 -0.025892  -0.082628\n",
       "4  2018-04-30   961771.929086  0.046649  -0.035979"
      ]
     },
     "execution_count": 6,
     "metadata": {},
     "output_type": "execute_result"
    }
   ],
   "source": [
    "df_pasiva.head()"
   ]
  },
  {
   "cell_type": "code",
   "execution_count": 7,
   "metadata": {},
   "outputs": [
    {
     "data": {
      "text/html": [
       "<div>\n",
       "<style scoped>\n",
       "    .dataframe tbody tr th:only-of-type {\n",
       "        vertical-align: middle;\n",
       "    }\n",
       "\n",
       "    .dataframe tbody tr th {\n",
       "        vertical-align: top;\n",
       "    }\n",
       "\n",
       "    .dataframe thead th {\n",
       "        text-align: right;\n",
       "    }\n",
       "</style>\n",
       "<table border=\"1\" class=\"dataframe\">\n",
       "  <thead>\n",
       "    <tr style=\"text-align: right;\">\n",
       "      <th></th>\n",
       "      <th>TITULOS</th>\n",
       "      <th>PRECIO</th>\n",
       "      <th>COMISIONES</th>\n",
       "      <th>COMISIONES_ACUM</th>\n",
       "      <th>TIMESTAMP</th>\n",
       "    </tr>\n",
       "  </thead>\n",
       "  <tbody>\n",
       "    <tr>\n",
       "      <th>0</th>\n",
       "      <td>129.0</td>\n",
       "      <td>135.050003</td>\n",
       "      <td>21.776813</td>\n",
       "      <td>21.776813</td>\n",
       "      <td>31-01-2018</td>\n",
       "    </tr>\n",
       "    <tr>\n",
       "      <th>1</th>\n",
       "      <td>1145.0</td>\n",
       "      <td>23.360001</td>\n",
       "      <td>33.434001</td>\n",
       "      <td>55.210814</td>\n",
       "      <td>2018-01-31</td>\n",
       "    </tr>\n",
       "    <tr>\n",
       "      <th>2</th>\n",
       "      <td>118.0</td>\n",
       "      <td>26.860001</td>\n",
       "      <td>3.961850</td>\n",
       "      <td>59.172664</td>\n",
       "      <td>2018-02-28</td>\n",
       "    </tr>\n",
       "    <tr>\n",
       "      <th>3</th>\n",
       "      <td>136.0</td>\n",
       "      <td>60.880001</td>\n",
       "      <td>10.349600</td>\n",
       "      <td>69.522264</td>\n",
       "      <td>2018-03-28</td>\n",
       "    </tr>\n",
       "    <tr>\n",
       "      <th>4</th>\n",
       "      <td>7622.0</td>\n",
       "      <td>17.440001</td>\n",
       "      <td>166.159605</td>\n",
       "      <td>235.681869</td>\n",
       "      <td>2018-04-30</td>\n",
       "    </tr>\n",
       "  </tbody>\n",
       "</table>\n",
       "</div>"
      ],
      "text/plain": [
       "   TITULOS      PRECIO  COMISIONES  COMISIONES_ACUM   TIMESTAMP\n",
       "0    129.0  135.050003   21.776813        21.776813  31-01-2018\n",
       "1   1145.0   23.360001   33.434001        55.210814  2018-01-31\n",
       "2    118.0   26.860001    3.961850        59.172664  2018-02-28\n",
       "3    136.0   60.880001   10.349600        69.522264  2018-03-28\n",
       "4   7622.0   17.440001  166.159605       235.681869  2018-04-30"
      ]
     },
     "execution_count": 7,
     "metadata": {},
     "output_type": "execute_result"
    }
   ],
   "source": [
    "df_operaciones.head()"
   ]
  },
  {
   "cell_type": "markdown",
   "metadata": {},
   "source": [
    "##### - Mostramos una grafica donde podemos visualizar el comportamiento del rendimiento atraves del tiempo "
   ]
  },
  {
   "cell_type": "code",
   "execution_count": 8,
   "metadata": {},
   "outputs": [
    {
     "data": {
      "image/png": "[encoded data removed]",
      "text/plain": [
       "<Figure size 432x288 with 1 Axes>"
      ]
     },
     "metadata": {
      "needs_background": "light"
     },
     "output_type": "display_data"
    }
   ],
   "source": [
    "Plot1 = grafico1(df_pasiva) #Visauliza el comportamiento del rendimiento atraves del tiempo"
   ]
  },
  {
   "cell_type": "markdown",
   "metadata": {},
   "source": [
    "##### - Mostramos una grafica donde podemos visualizar la cantidad de capital de cada activo"
   ]
  },
  {
   "cell_type": "code",
   "execution_count": 9,
   "metadata": {},
   "outputs": [
    {
     "data": {
      "image/png": "[encoded data removed]",
      "text/plain": [
       "<Figure size 432x288 with 1 Axes>"
      ]
     },
     "metadata": {
      "needs_background": "light"
     },
     "output_type": "display_data"
    }
   ],
   "source": [
    "Plot4 = grafico4(df_pasiva_Final) #Visauliza la capital de cada tickers"
   ]
  },
  {
   "cell_type": "markdown",
   "metadata": {},
   "source": [
    "##### - Mostramos una grafica donde podemos visualizar el comportamiento del rendimiento acumulado atraves del tiempo "
   ]
  },
  {
   "cell_type": "code",
   "execution_count": 10,
   "metadata": {},
   "outputs": [
    {
     "data": {
      "image/png": "[encoded data removed]",
      "text/plain": [
       "<Figure size 432x288 with 1 Axes>"
      ]
     },
     "metadata": {
      "needs_background": "light"
     },
     "output_type": "display_data"
    }
   ],
   "source": [
    "Plot3 = grafico3(df_pasiva) #Visauliza el comportamiento del rendimiento_acumulado atraves del tiempo"
   ]
  }
 ],
 "metadata": {
  "kernelspec": {
   "display_name": "Python 3",
   "language": "python",
   "name": "python3"
  },
  "language_info": {
   "codemirror_mode": {
    "name": "ipython",
    "version": 3
   },
   "file_extension": ".py",
   "mimetype": "text/x-python",
   "name": "python",
   "nbconvert_exporter": "python",
   "pygments_lexer": "ipython3",
   "version": "3.8.5"
  }
 },
 "nbformat": 4,
 "nbformat_minor": 4
}
